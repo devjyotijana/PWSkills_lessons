{
 "cells": [
  {
   "cell_type": "markdown",
   "metadata": {},
   "source": [
    "Q1. How do you comment code in Python? What are the different types of comments?"
   ]
  },
  {
   "cell_type": "markdown",
   "metadata": {},
   "source": [
    "**Ans :**\n",
    "Python supports 2 types of comments.\n",
    "\n",
    "**Single Line comment :**\n",
    "For single line comment, we use # and then the text. Here python will ignore everything after # in the same line.\n",
    "\n",
    "Example : # This is a single line comment\n",
    "\n",
    "**Multiline comment :**\n",
    "We can use 3 single quotes or 3 double quotes at the begeining and at the end of the content for multiline comments. Here python will ignore everything inside the triple quotes. Note : If 3 single quotes are added at the begeinning the same should be added at the end. Same applies for double quotes.\n",
    "\n",
    "Example :\n",
    "\n",
    "''' This is a multi-line comment. It can span across multiple lines. '''\n",
    "\n",
    "\"\"\" This is another way to create a multi-line comment. \"\"\""
   ]
  },
  {
   "cell_type": "markdown",
   "metadata": {},
   "source": [
    "----------------"
   ]
  },
  {
   "cell_type": "markdown",
   "metadata": {},
   "source": [
    "Q2. What are variables in Python? How do you declare and assign values to variables?"
   ]
  },
  {
   "cell_type": "markdown",
   "metadata": {},
   "source": [
    "**Ans :** \n",
    "Variables are used to store and manipulate data in Python. A variable is a name that designates a place in memory where a value is kept. Data of all kinds, including numbers, strings, lists, and more complex objects, can be stored in variables.\n",
    "\n",
    "The following syntax can be used to declare and assign a value to a variable in Python: variable_name = value\n",
    "\n",
    "Example : name = \"John\" age = 25 is_student = True"
   ]
  },
  {
   "cell_type": "markdown",
   "metadata": {},
   "source": [
    "---------------"
   ]
  },
  {
   "cell_type": "markdown",
   "metadata": {},
   "source": [
    "Q3. How do you convert one data type to another in Python?"
   ]
  },
  {
   "cell_type": "markdown",
   "metadata": {},
   "source": [
    "**Ans :** \n",
    "\n",
    "Using type conversion functions or the constructor functions for the desired data type, we can change the data type in Python.\n",
    "\n",
    "Several frequently used type conversion functions are listed below: x = int(3.14) # x will be 3 y = float(\"5.6\") # y will be 5.6 z = str(42) # z will be \"42\" a = bool(0) # a will be False\n",
    "\n",
    "We can convert a value to a list, tuple, set, or dictionary data type, respectively, using the list(), tuple(), set(), and dict() functions.\n",
    "\n",
    "Example : b = list(\"hello\") # b will be ['h', 'e', 'l', 'l', 'o'] c = tuple([1, 2, 3]) # c will be (1, 2, 3) d = set([1, 2, 2, 3]) # d will be {1, 2, 3} e = dict([('a', 1), ('b', 2)]) # e will be {'a': 1, 'b': 2}\n",
    "\n",
    "As an alternative, you can directly transform values into the desired data type using constructor functions.\n",
    "\n",
    "Example : x = int(3.14) # x will be 3 y = float(\"5.6\") # y will be 5.6 z = str(42) # z will be \"42\" a = bool(0) # a will be False b = list(\"hello\") # b will be ['h', 'e', 'l', 'l', 'o'] c = tuple([1, 2, 3]) # c will be (1, 2, 3) d = set([1, 2, 2, 3]) # d will be {1, 2, 3} e = dict([('a', 1), ('b', 2)]) # e will be {'a': 1, 'b': 2}"
   ]
  },
  {
   "cell_type": "markdown",
   "metadata": {},
   "source": [
    "-------------"
   ]
  },
  {
   "cell_type": "markdown",
   "metadata": {},
   "source": [
    "Q4. How do you write and execute a Python script from the command line?"
   ]
  },
  {
   "cell_type": "markdown",
   "metadata": {},
   "source": [
    "**Ans :**\n",
    "\n",
    "Follow these steps to create and run a Python script from the command line:\n",
    "\n",
    "Write the Python script in a text editor after opening it. Use the.py extension when saving the file. As an illustration, we could make a file called myscript.py and put the code inside of it.\n",
    "\n",
    "Open the command line or terminal on the computer.\n",
    "\n",
    "Use the cd command to move to the directory where the Python script is stored. We can access the script, for instance, if it is saved in the Documents folder by running:\n",
    "\n",
    "cd Documents\n",
    "\n",
    "Following the python command and the name of the script file, we can run the Python script once we are in the correct directory. Run: for instance, to run myscript.py\n",
    "python myscript.py\n",
    "\n",
    "The script will be run by the Python interpreter, and any output (if any) will be shown in the terminal or command line.\n"
   ]
  },
  {
   "cell_type": "markdown",
   "metadata": {},
   "source": [
    "-------------"
   ]
  },
  {
   "cell_type": "markdown",
   "metadata": {},
   "source": [
    "Q5. Given a list my_list = [1, 2, 3, 4, 5], write the code to slice the list and obtain the sub-list [2, 3]."
   ]
  },
  {
   "cell_type": "code",
   "execution_count": 1,
   "metadata": {},
   "outputs": [
    {
     "name": "stdout",
     "output_type": "stream",
     "text": [
      "[2, 3]\n"
     ]
    }
   ],
   "source": [
    "# Code\n",
    "my_list = [1, 2, 3, 4, 5]\n",
    "my_sub_list = my_list[1:3]\n",
    "print(my_sub_list)"
   ]
  },
  {
   "cell_type": "markdown",
   "metadata": {},
   "source": [
    "------------------"
   ]
  },
  {
   "cell_type": "markdown",
   "metadata": {},
   "source": [
    "Q6. What is a complex number in mathematics, and how is it represented in Python?"
   ]
  },
  {
   "cell_type": "markdown",
   "metadata": {},
   "source": [
    "**Ans :** \n",
    "\n",
    "A complex number in mathematics is one that can be written as a + bi, where a, b are all real numbers and i is the imaginary unit, which is equal to the square root of -1. A and b are used to represent the real and imaginary halves of a complex number, respectively.\n",
    "\n",
    "In python, instead of i, j should be mentiones as imaginary number Example : 1 + 5j\n",
    "\n",
    "Also this can be written in form of a function called complex Example : complex(3,5) will give us result 3+5j"
   ]
  },
  {
   "cell_type": "code",
   "execution_count": 2,
   "metadata": {},
   "outputs": [
    {
     "data": {
      "text/plain": [
       "(3+5j)"
      ]
     },
     "execution_count": 2,
     "metadata": {},
     "output_type": "execute_result"
    }
   ],
   "source": [
    "complex(3,5)\n"
   ]
  },
  {
   "cell_type": "markdown",
   "metadata": {},
   "source": [
    "----------------"
   ]
  },
  {
   "cell_type": "markdown",
   "metadata": {},
   "source": [
    "Q7. What is the correct way to declare a variable named age and assign the value 25 to it?\n"
   ]
  },
  {
   "cell_type": "markdown",
   "metadata": {},
   "source": [
    "**Ans :**\n",
    "\n",
    "age = 25"
   ]
  },
  {
   "cell_type": "markdown",
   "metadata": {},
   "source": [
    "---------------"
   ]
  },
  {
   "cell_type": "markdown",
   "metadata": {},
   "source": [
    "Q8. Declare a variable named price and assign the value 9.99 to it. What data type does this variable belong to?"
   ]
  },
  {
   "cell_type": "code",
   "execution_count": 3,
   "metadata": {},
   "outputs": [
    {
     "data": {
      "text/plain": [
       "float"
      ]
     },
     "execution_count": 3,
     "metadata": {},
     "output_type": "execute_result"
    }
   ],
   "source": [
    "# Ans\n",
    "\n",
    "price = 9.99\n",
    "\n",
    "# The type should be float\n",
    "\n",
    "type(price)"
   ]
  },
  {
   "cell_type": "markdown",
   "metadata": {},
   "source": [
    "----------------"
   ]
  },
  {
   "cell_type": "markdown",
   "metadata": {},
   "source": [
    "Q9. Create a variable named name and assign your full name to it as a string. How would you print the value of this variable?"
   ]
  },
  {
   "cell_type": "code",
   "execution_count": 4,
   "metadata": {},
   "outputs": [
    {
     "name": "stdout",
     "output_type": "stream",
     "text": [
      "Devjyoti Jana\n"
     ]
    }
   ],
   "source": [
    "# Ans\n",
    "\n",
    "name = \"Devjyoti Jana\"\n",
    "\n",
    "# To print the value of this variable i need to pass the variable name inside the print function.\n",
    "# Example :\n",
    "\n",
    "print(name)"
   ]
  },
  {
   "cell_type": "markdown",
   "metadata": {},
   "source": [
    "------------"
   ]
  },
  {
   "cell_type": "markdown",
   "metadata": {},
   "source": [
    "Q10. Given the string \"Hello, World!\", extract the substring \"World\"."
   ]
  },
  {
   "cell_type": "code",
   "execution_count": 5,
   "metadata": {},
   "outputs": [
    {
     "name": "stdout",
     "output_type": "stream",
     "text": [
      "World\n",
      "World\n",
      "World\n"
     ]
    }
   ],
   "source": [
    "# Code\n",
    "string = \"Hello World\"\n",
    "\n",
    "# Method 1 \n",
    "print(string[6:])\n",
    "\n",
    "# Method 2\n",
    "print(string[-5:])\n",
    "\n",
    "# Method 3\n",
    "string2 = string.split()\n",
    "print(string2[1])"
   ]
  },
  {
   "cell_type": "markdown",
   "metadata": {},
   "source": [
    "-------------------"
   ]
  },
  {
   "cell_type": "markdown",
   "metadata": {},
   "source": [
    "Q11. Create a variable named \"is_student\" and assign it a boolean value indicating whether you are currently a student or not."
   ]
  },
  {
   "cell_type": "code",
   "execution_count": 6,
   "metadata": {},
   "outputs": [],
   "source": [
    "# Code\n",
    "is_student = True"
   ]
  },
  {
   "cell_type": "code",
   "execution_count": null,
   "metadata": {},
   "outputs": [],
   "source": []
  }
 ],
 "metadata": {
  "kernelspec": {
   "display_name": "Python 3",
   "language": "python",
   "name": "python3"
  },
  "language_info": {
   "codemirror_mode": {
    "name": "ipython",
    "version": 3
   },
   "file_extension": ".py",
   "mimetype": "text/x-python",
   "name": "python",
   "nbconvert_exporter": "python",
   "pygments_lexer": "ipython3",
   "version": "3.11.6"
  }
 },
 "nbformat": 4,
 "nbformat_minor": 2
}
