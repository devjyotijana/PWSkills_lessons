{
 "cells": [
  {
   "cell_type": "markdown",
   "metadata": {},
   "source": [
    "Q1. Create one variable containing following type of data:\n",
    "\n",
    "(i) string\n",
    "\n",
    "(ii) list\n",
    "\n",
    "(iii) float\n",
    "\n",
    "(iv) tuple"
   ]
  },
  {
   "cell_type": "code",
   "execution_count": 2,
   "metadata": {},
   "outputs": [
    {
     "data": {
      "text/plain": [
       "str"
      ]
     },
     "execution_count": 2,
     "metadata": {},
     "output_type": "execute_result"
    }
   ],
   "source": [
    "# Ans\n",
    "\n",
    "my_str = 'Dev'\n",
    "type(my_str)"
   ]
  },
  {
   "cell_type": "code",
   "execution_count": 3,
   "metadata": {},
   "outputs": [
    {
     "data": {
      "text/plain": [
       "list"
      ]
     },
     "execution_count": 3,
     "metadata": {},
     "output_type": "execute_result"
    }
   ],
   "source": [
    "my_list = [1,2,3,4]\n",
    "type(my_list)"
   ]
  },
  {
   "cell_type": "code",
   "execution_count": 4,
   "metadata": {},
   "outputs": [
    {
     "data": {
      "text/plain": [
       "float"
      ]
     },
     "execution_count": 4,
     "metadata": {},
     "output_type": "execute_result"
    }
   ],
   "source": [
    "my_float = 45.34\n",
    "type(my_float)"
   ]
  },
  {
   "cell_type": "code",
   "execution_count": 7,
   "metadata": {},
   "outputs": [
    {
     "data": {
      "text/plain": [
       "tuple"
      ]
     },
     "execution_count": 7,
     "metadata": {},
     "output_type": "execute_result"
    }
   ],
   "source": [
    "my_tuple = (1,2,3,4,5)\n",
    "type(my_tuple)"
   ]
  },
  {
   "cell_type": "markdown",
   "metadata": {},
   "source": [
    "---------------------"
   ]
  },
  {
   "cell_type": "markdown",
   "metadata": {},
   "source": [
    "Q2. Given are some following variables containing data:\n",
    "\n",
    "(i) var1 = ‘ ‘\n",
    "\n",
    "(ii) var2 = ‘[ DS , ML , Python]’\n",
    "\n",
    "(iii) var3 = [ ‘DS’ , ’ML’ , ‘Python’ ]\n",
    "\n",
    "(iv) var4 = 1.\n",
    "\n",
    "What will be the data type of the above given variable."
   ]
  },
  {
   "cell_type": "code",
   "execution_count": 8,
   "metadata": {},
   "outputs": [],
   "source": [
    "var1 = ''\n",
    "var2 = '[DS,ML,Python]'\n",
    "var3 = ['DS','ML','Python']\n",
    "var4 = 1"
   ]
  },
  {
   "cell_type": "code",
   "execution_count": 9,
   "metadata": {},
   "outputs": [
    {
     "data": {
      "text/plain": [
       "str"
      ]
     },
     "execution_count": 9,
     "metadata": {},
     "output_type": "execute_result"
    }
   ],
   "source": [
    "type(var1)"
   ]
  },
  {
   "cell_type": "code",
   "execution_count": 10,
   "metadata": {},
   "outputs": [
    {
     "data": {
      "text/plain": [
       "str"
      ]
     },
     "execution_count": 10,
     "metadata": {},
     "output_type": "execute_result"
    }
   ],
   "source": [
    "type(var2)"
   ]
  },
  {
   "cell_type": "code",
   "execution_count": 11,
   "metadata": {},
   "outputs": [
    {
     "data": {
      "text/plain": [
       "list"
      ]
     },
     "execution_count": 11,
     "metadata": {},
     "output_type": "execute_result"
    }
   ],
   "source": [
    "type(var3)"
   ]
  },
  {
   "cell_type": "code",
   "execution_count": 12,
   "metadata": {},
   "outputs": [
    {
     "data": {
      "text/plain": [
       "int"
      ]
     },
     "execution_count": 12,
     "metadata": {},
     "output_type": "execute_result"
    }
   ],
   "source": [
    "type(var4)"
   ]
  },
  {
   "cell_type": "markdown",
   "metadata": {},
   "source": [
    "--------------------"
   ]
  },
  {
   "cell_type": "markdown",
   "metadata": {},
   "source": [
    "Q3. Explain the use of the following operators using an example:\n",
    "\n",
    "(i) /\n",
    "\n",
    "(ii) %\n",
    "\n",
    "(iii) //\n",
    "\n",
    "(iv) **"
   ]
  },
  {
   "cell_type": "markdown",
   "metadata": {},
   "source": [
    "**ANS :**\n",
    "\n",
    "(i) / : Division. This is used to devide 2 numbers. Example : 4 / 2 = 2\n",
    "\n",
    "\n",
    "(ii) % : Modulus. This is used to find the remainder. Example : 5 % 2 = 1\n",
    "\n",
    "\n",
    "(iii) // : Floor division. This rounds the result down to the nearest whole number : 7 // 2 = 3\n",
    "\n",
    "\n",
    "(iv) ** : Exponentiation. Example 2*3 = 22*2 = 8"
   ]
  },
  {
   "cell_type": "code",
   "execution_count": 13,
   "metadata": {},
   "outputs": [
    {
     "data": {
      "text/plain": [
       "2.0"
      ]
     },
     "execution_count": 13,
     "metadata": {},
     "output_type": "execute_result"
    }
   ],
   "source": [
    "4 / 2\n"
   ]
  },
  {
   "cell_type": "code",
   "execution_count": 14,
   "metadata": {},
   "outputs": [
    {
     "data": {
      "text/plain": [
       "1"
      ]
     },
     "execution_count": 14,
     "metadata": {},
     "output_type": "execute_result"
    }
   ],
   "source": [
    "5 % 2\n"
   ]
  },
  {
   "cell_type": "code",
   "execution_count": 15,
   "metadata": {},
   "outputs": [
    {
     "data": {
      "text/plain": [
       "3"
      ]
     },
     "execution_count": 15,
     "metadata": {},
     "output_type": "execute_result"
    }
   ],
   "source": [
    "7 // 2\n"
   ]
  },
  {
   "cell_type": "code",
   "execution_count": 16,
   "metadata": {},
   "outputs": [
    {
     "data": {
      "text/plain": [
       "8"
      ]
     },
     "execution_count": 16,
     "metadata": {},
     "output_type": "execute_result"
    }
   ],
   "source": [
    "2 ** 3\n"
   ]
  },
  {
   "cell_type": "markdown",
   "metadata": {},
   "source": [
    "---------------------"
   ]
  },
  {
   "cell_type": "markdown",
   "metadata": {},
   "source": [
    "Q4. Create a list of length 10 of your choice containing multiple types of data. Using for loop print the\n",
    "element and its data type."
   ]
  },
  {
   "cell_type": "code",
   "execution_count": 17,
   "metadata": {},
   "outputs": [
    {
     "name": "stdout",
     "output_type": "stream",
     "text": [
      "Length of the list :  10\n",
      "1\n",
      "5.2\n",
      "Dev\n",
      "[1, 2, 3]\n",
      "('Dog', 'Cat', 'Lion')\n",
      "(3+5j)\n",
      "True\n",
      "{'color': 'Red'}\n",
      "12\n",
      "6.7778\n"
     ]
    }
   ],
   "source": [
    "#Define the list\n",
    "my_list1 = [1,5.2,\"Dev\",[1,2,3],(\"Dog\",\"Cat\",\"Lion\"),3+5j,True,{\"color\" : \"Red\"},12,6.7778]\n",
    "print(\"Length of the list : \",len(my_list1))\n",
    "\n",
    "#Print the elements of the list\n",
    "for i in my_list1 :\n",
    "    print(i)\n"
   ]
  },
  {
   "cell_type": "markdown",
   "metadata": {},
   "source": [
    "-----------------------"
   ]
  },
  {
   "cell_type": "markdown",
   "metadata": {},
   "source": [
    "Q5. Using a while loop, verify if the number A is purely divisible by number B and if so then how many\n",
    "times it can be divisible."
   ]
  },
  {
   "cell_type": "code",
   "execution_count": 18,
   "metadata": {},
   "outputs": [
    {
     "name": "stdout",
     "output_type": "stream",
     "text": [
      "100 is divisible by 2 and can be divided 2 times\n"
     ]
    }
   ],
   "source": [
    "a = 100\n",
    "a1 = a\n",
    "b = 2\n",
    "counter = 0\n",
    "while a1 % b == 0 :\n",
    "    counter += 1\n",
    "    a1 /= b\n",
    "\n",
    "if counter > 0 :\n",
    "    print (f\"{a} is divisible by {b} and can be divided {counter} times\")\n",
    "else:\n",
    "    print(f\"{a} is not divisible by {b}\")"
   ]
  },
  {
   "cell_type": "markdown",
   "metadata": {},
   "source": [
    "-----------------"
   ]
  },
  {
   "cell_type": "markdown",
   "metadata": {},
   "source": [
    "Q6. Create a list containing 25 int type data. Using for loop and if-else condition print if the element is\n",
    "divisible by 3 or not."
   ]
  },
  {
   "cell_type": "code",
   "execution_count": 19,
   "metadata": {},
   "outputs": [
    {
     "name": "stdout",
     "output_type": "stream",
     "text": [
      "50 is not divisible by 3\n",
      "6 is divisible by 3\n",
      "81 is divisible by 3\n",
      "64 is not divisible by 3\n",
      "95 is not divisible by 3\n",
      "71 is not divisible by 3\n",
      "20 is not divisible by 3\n",
      "14 is not divisible by 3\n",
      "90 is divisible by 3\n",
      "45 is divisible by 3\n",
      "65 is not divisible by 3\n",
      "71 is not divisible by 3\n",
      "78 is divisible by 3\n",
      "56 is not divisible by 3\n",
      "36 is divisible by 3\n",
      "72 is divisible by 3\n",
      "13 is not divisible by 3\n",
      "53 is not divisible by 3\n",
      "65 is not divisible by 3\n",
      "10 is not divisible by 3\n",
      "2 is not divisible by 3\n",
      "5 is not divisible by 3\n",
      "41 is not divisible by 3\n",
      "41 is not divisible by 3\n",
      "19 is not divisible by 3\n"
     ]
    }
   ],
   "source": [
    "import random\n",
    "my_list1 = []\n",
    "for i in range(25):\n",
    "    my_list1.append((random.randint(0,100)))\n",
    "\n",
    "for num in my_list1 :\n",
    "    if num % 3 == 0 :\n",
    "        print(f\"{num} is divisible by 3\")\n",
    "    else:\n",
    "        print(f\"{num} is not divisible by 3\")"
   ]
  },
  {
   "cell_type": "markdown",
   "metadata": {},
   "source": [
    "-----------------"
   ]
  },
  {
   "cell_type": "markdown",
   "metadata": {},
   "source": [
    "Q7. What do you understand about mutable and immutable data types? Give examples for both showing\n",
    "this property."
   ]
  },
  {
   "cell_type": "markdown",
   "metadata": {},
   "source": [
    "**Immutable :** \n",
    "\n",
    "Values or Elements of an objects can not be changed.\n",
    "\n",
    "Example values inside a string can not be changed.\n",
    "\n",
    "Let's declare a string variable name = \"Devjyoti\".\n",
    "\n",
    "Here I can not change value at 2nd index \"v\" to \"b\". Instead I have to assign value \"Debjyoti\" as a whole to variable name to get this changed\"\n",
    "\n",
    "**Mutable :** \n",
    "\n",
    "Values or Elements of an objects can be changed\n",
    "\n",
    "Example values inside a list can be changed.\n",
    "\n",
    "Let's declare a list variable my_list = [\"Dev\",25, 30]\n",
    "\n",
    "Here I can change the value \"Dev\" at zeroth index to 20"
   ]
  },
  {
   "cell_type": "markdown",
   "metadata": {},
   "source": []
  }
 ],
 "metadata": {
  "kernelspec": {
   "display_name": "Python 3",
   "language": "python",
   "name": "python3"
  },
  "language_info": {
   "codemirror_mode": {
    "name": "ipython",
    "version": 3
   },
   "file_extension": ".py",
   "mimetype": "text/x-python",
   "name": "python",
   "nbconvert_exporter": "python",
   "pygments_lexer": "ipython3",
   "version": "3.11.6"
  }
 },
 "nbformat": 4,
 "nbformat_minor": 2
}
